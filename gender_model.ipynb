{
 "cells": [
  {
   "cell_type": "code",
   "execution_count": 4,
   "metadata": {
    "collapsed": true
   },
   "outputs": [],
   "source": [
    "\"\"\" Calculating and printing out basic statistics about Titanic survivors \"\"\"\n",
    "import pandas as pd\n",
    "import numpy as np\n",
    "import csv as csv"
   ]
  },
  {
   "cell_type": "code",
   "execution_count": 8,
   "metadata": {},
   "outputs": [
    {
     "name": "stdout",
     "output_type": "stream",
     "text": [
      "Total number of passengers: 891\nNumber of survivors: 342.0\nProportion of survivors/passengers: 0.383838383838\n"
     ]
    }
   ],
   "source": [
    "csv_file_object = csv.reader(open('data/train.csv','rb'))\n",
    "header = csv_file_object.next()\n",
    "data = []\n",
    "\n",
    "for row in csv_file_object:\n",
    "    data.append(row[0:])\n",
    "data = np.array(data)\n",
    "\n",
    "number_passengers = np.size(data[0::, 1].astype(np.float))\n",
    "number_survived = np.sum(data[0::,1].astype(np.float))\n",
    "proportion_survivors = number_survived/number_passengers\n",
    "\n",
    "print 'Total number of passengers: {}'.format(number_passengers)\n",
    "print 'Number of survivors: {}'.format(number_survived)\n",
    "print 'Proportion of survivors/passengers: {}'.format(proportion_survivors)"
   ]
  },
  {
   "cell_type": "code",
   "execution_count": 17,
   "metadata": {},
   "outputs": [
    {
     "name": "stdout",
     "output_type": "stream",
     "text": [
      "314\n577\n"
     ]
    }
   ],
   "source": [
    "women_only_stats = data[0::,4] == 'female'\n",
    "men_only_stats = data[0::,4] != 'female'\n",
    "\n",
    "print np.sum(women_only_stats)\n",
    "print np.sum(men_only_stats)"
   ]
  },
  {
   "cell_type": "code",
   "execution_count": 27,
   "metadata": {},
   "outputs": [
    {
     "name": "stdout",
     "output_type": "stream",
     "text": [
      "Proportion women survived: 74.20%\nProportion men survived: 18.89%\n"
     ]
    }
   ],
   "source": [
    "women_onboard = data[women_only_stats,1].astype(np.float)\n",
    "men_onboard = data[men_only_stats,1].astype(np.float)\n",
    "\n",
    "proportion_women_survived = np.sum(women_onboard) / np.size(women_onboard)\n",
    "proportion_men_survived = np.sum(men_onboard) / np.size(men_onboard)\n",
    "\n",
    "print 'Proportion women survived: {:.2f}%'.format(proportion_women_survived * 100)\n",
    "print 'Proportion men survived: {:.2f}%'.format(proportion_men_survived * 100)"
   ]
  },
  {
   "cell_type": "code",
   "execution_count": null,
   "metadata": {},
   "outputs": [],
   "source": [
    "\"\"\" Creating simple model for prediction if the person is going to survive or not \"\"\"\n",
    "test_file = open('data/test.csv','rb')\n",
    "test_file_object = csv.reader(test_file)\n",
    "header = test_file_object.next()\n",
    "\n",
    "predictions_file = open('gender_model.csv', 'wb')\n",
    "predictions_file_object = csv.writer(predictions_file)\n",
    "predictions_file_object.writerow(['PassengerId', 'Survived'])\n",
    "\n",
    "for row in test_file_object:\n",
    "    if row[3] == 'female':\n",
    "        predictions_file_object.writerow([row[0],'1'])\n",
    "    else:\n",
    "        predictions_file_object.writerow([row[0], '0'])\n",
    "test_file.close()\n",
    "predictions_file.close()"
   ]
  },
  {
   "cell_type": "code",
   "execution_count": null,
   "metadata": {},
   "outputs": [],
   "source": [
    ""
   ]
  }
 ],
 "metadata": {
  "kernelspec": {
   "display_name": "Python 2",
   "language": "python",
   "name": "python2"
  },
  "language_info": {
   "codemirror_mode": {
    "name": "ipython",
    "version": 2.0
   },
   "file_extension": ".py",
   "mimetype": "text/x-python",
   "name": "python",
   "nbconvert_exporter": "python",
   "pygments_lexer": "ipython2",
   "version": "2.7.6"
  }
 },
 "nbformat": 4,
 "nbformat_minor": 0
}